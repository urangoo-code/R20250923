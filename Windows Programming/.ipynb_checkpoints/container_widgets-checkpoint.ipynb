{
 "cells": [
  {
   "cell_type": "markdown",
   "id": "3eeff84f-203a-4d49-9793-4895838b655a",
   "metadata": {},
   "source": [
    "# Frame Widgets"
   ]
  },
  {
   "cell_type": "code",
   "execution_count": 9,
   "id": "da661efb-237c-434e-b134-2810b9ccca02",
   "metadata": {},
   "outputs": [],
   "source": [
    "# Example: tkinter Frame widget\n",
    "from tkinter import*\n",
    "root = Tk()\n",
    "root.title('Frame Example')\n",
    "root.geometry(\"400x400\")\n",
    "main_frame = Frame(root, width=200, height=200, bg=\"Red\")\n",
    "main_frame.grid(row=0, column=0)\n",
    "framentry2 = Frame(root, width=200, height=200, bg=\"Green\")\n",
    "framentry2.grid(row=1, column=0)\n",
    "framentry3 = Frame(root, width=200, height=200, bg=\"Blue\")\n",
    "framentry3.grid(row=0, column=1)\n",
    "frame4 = Frame(root, width=200, height=200, bg=\"Yellow\")\n",
    "frame4.grid(row=1, column=1)\n",
    "root.mainloop()"
   ]
  },
  {
   "cell_type": "code",
   "execution_count": 19,
   "id": "81a990ba-5723-4d66-aea8-d7f61973aef1",
   "metadata": {},
   "outputs": [],
   "source": [
    "# Arrange Label, Entry, Button in a Frame\n",
    "from tkinter import*\n",
    "root=Tk()\n",
    "root.title('Arrange widgets in Frame')\n",
    "main_frame=Frame(root)\n",
    "Label(main_frame, text='Name').grid(row=0, sticky='w', padx=5)\n",
    "Label(main_frame, text='Age').grid(row=1, sticky='w', padx=5)\n",
    "Label(main_frame, text = 'PhoneNumber').grid(row=2, sticky='w', padx=5)\n",
    "entry1 = Entry(main_frame)\n",
    "entry1.grid(row=0, column=1)\n",
    "entry2 = Entry(main_frame)\n",
    "entry2.grid(row=1, column=1)\n",
    "entry3 = Entry(main_frame)\n",
    "entry3.grid(row=2, column=1)\n",
    "view_button = Button(main_frame, text='View', bg='LightGreen')\n",
    "view_button.grid(row=3, columnspan=2, sticky='e', pady=10)\n",
    "main_frame.grid(row=0, column=0, padx=10, pady=10)\n",
    "root.mainloop()"
   ]
  },
  {
   "cell_type": "code",
   "execution_count": 100,
   "id": "51647ffd-3162-4c2e-9647-206cfcdb1f24",
   "metadata": {},
   "outputs": [],
   "source": [
    "# Arrange Label, Entry, Button in a Frame\n",
    "from tkinter import*\n",
    "root=Tk()\n",
    "root.title('Arrange widgets in Frame')\n",
    "main_frame=Frame(root)\n",
    "Label(main_frame, text='Name').grid(row=0, sticky='w', padx=5)\n",
    "Label(main_frame, text='Age').grid(row=1, sticky='w', padx=5)\n",
    "Label(main_frame, text = 'PhoneNumber').grid(row=2, sticky='w', padx=5)\n",
    "entry1 = Entry(main_frame)\n",
    "entry1.grid(row=0, column=1)\n",
    "entry2 = Entry(main_frame)\n",
    "entry2.grid(row=1, column=1)\n",
    "entry3 = Entry(main_frame)\n",
    "entry3.grid(row=2, column=1)\n",
    "view_button = Button(main_frame, text='View', bg='LightGreen')\n",
    "view_button.grid(row=3, columnspan=2, sticky='e', pady=10)\n",
    "main_frame.grid(row=0, column=0, padx=10, pady=10)\n",
    "\n",
    "# Place other Frame to the right side of the first Frame\n",
    "side_frame=Frame(root)\n",
    "Label(side_frame, text='Gender').grid(row=0, sticky='w', padx=5)\n",
    "Label(side_frame, text='City').grid(row=1, sticky='w', padx=5)\n",
    "Label(side_frame, text = 'Address').grid(row=2, sticky='w', padx=5)\n",
    "gender_entry = Entry(side_frame)\n",
    "gender_entry.grid(row=0, column=1)\n",
    "city_entry = Entry(side_frame)\n",
    "city_entry.grid(row=1, column=1)\n",
    "address_entry = Entry(side_frame)\n",
    "address_entry.grid(row=2, column=1)\n",
    "display_button = Button(side_frame, text='Display', bg='LightGreen')\n",
    "display_button.grid(row=3, columnspan=2, sticky='e', pady=10)\n",
    "side_frame.grid(row=0, column=1, padx=10, pady=10)\n",
    "\n",
    "root.mainloop()"
   ]
  },
  {
   "cell_type": "markdown",
   "id": "48e2f43b-79bb-4f5e-8f3a-16b0ba2fdb81",
   "metadata": {},
   "source": [
    "# LabelFrame Widgets"
   ]
  },
  {
   "cell_type": "code",
   "execution_count": 42,
   "id": "56b89981-9194-4f70-bdfe-bb39b2d41f10",
   "metadata": {},
   "outputs": [],
   "source": [
    "# LabelFrame Example\n",
    "from tkinter import *\n",
    "root = Tk()\n",
    "root.title('LabelFrame')\n",
    "labelframentry1 = LabelFrame(root, text=\"Label and Button Frame \", \n",
    "                         font=('Calibri', 12), bg='LightBlue')\n",
    "labelframentry1.pack(fill=\"both\", expand=\"yes\")\n",
    "Label(labelframentry1, text=\"Label1\", bg='LightYellow').pack(side=TOP)\n",
    "Button(labelframentry1, text=\"Button1\", bg='Red', fg='White').pack(side=LEFT)\n",
    "labelframentry2 = LabelFrame(root, text=\"CheckButton and Radiobutton Frame\", \n",
    "                         font=('Calibri', 12), bg = 'LightGreen')\n",
    "labelframentry2.pack(fill=\"both\", expand=\"yes\")\n",
    "Checkbutton(labelframentry2, text=\"CheckButton\", bg='Pink').pack(side=RIGHT)\n",
    "Radiobutton(labelframentry2, text=\"RadioButton\", bg='Yellow').pack(side=BOTTOM)\n",
    "root.mainloop()"
   ]
  },
  {
   "cell_type": "code",
   "execution_count": 51,
   "id": "84ad3f6a-9750-4429-8eb2-39f8df4d7a0f",
   "metadata": {},
   "outputs": [],
   "source": [
    "# Change anchor of label\n",
    "from tkinter import *\n",
    "root = Tk()\n",
    "root.title('Label Anchor Example')\n",
    "root.geometry('400x200')\n",
    "labelframentry1 = LabelFrame(root, text=\"Label Frame\", \n",
    "                         font = ('Calibri',12), bg = 'LightBlue', \n",
    "                         labelanchor = E)\n",
    "labelframentry1.pack(fill=\"both\", expand=\"yes\")\n",
    "Label(labelframentry1, text=\"Label\", bg = 'Magenta').pack(side = LEFT)\n",
    "root.mainloop() "
   ]
  },
  {
   "cell_type": "markdown",
   "id": "2c983e35-7565-400a-b075-e5b8f998e412",
   "metadata": {},
   "source": [
    "# Tabbed/Notebook Widget"
   ]
  },
  {
   "cell_type": "code",
   "execution_count": 96,
   "id": "d06be857-4777-4844-88b0-95e1de3ec89a",
   "metadata": {},
   "outputs": [],
   "source": [
    "from tkinter import *\n",
    "from tkinter import ttk\n",
    "root = Tk()\n",
    "root.geometry(\"400x200\")\n",
    "root.title(\"Tab Widget\")\n",
    "tabcontrol = ttk.Notebook(root, padding=10)\n",
    "tab1 = ttk.Frame(tabcontrol)\n",
    "tab2 = ttk.Frame(tabcontrol)\n",
    "tabcontrol.add(tab1, text = 'Tab1')\n",
    "tabcontrol.add(tab2, text = 'Tab2')\n",
    "tabcontrol.pack(expand = 1, fill = \"both\")\n",
    "ttk.Label(tab1, text = \"A label in tab1\", \n",
    "          font = ('Helvetica',12)).grid(column = 0,row = 0, \n",
    "                                        padx = 50, pady = 50)\n",
    "ttk.Label(tab2, text = \"A label in tab2\", \n",
    "          font = ('Times New Roman',12)).grid(column = 0, row = 0, \n",
    "                                              padx = 50, pady = 50)\n",
    "tabcontrol.select(1)\n",
    "root.mainloop()"
   ]
  },
  {
   "cell_type": "markdown",
   "id": "51ddb44d-6712-44d0-bdaf-304c5133433d",
   "metadata": {},
   "source": [
    "# Paned Window Widget"
   ]
  },
  {
   "cell_type": "code",
   "execution_count": 98,
   "id": "a38d9938-ea7c-4be4-9403-44b5469df02f",
   "metadata": {},
   "outputs": [],
   "source": [
    "root = Tk()\n",
    "root.title('Panned Window')\n",
    "root.geometry('400x300')\n",
    "# The 1st paned window\n",
    "panedwindow1 = PanedWindow(root)\n",
    "panedwindow1.pack(fill = BOTH, expand = 1)\n",
    "entry1 = Entry(panedwindow1, bd = 5, relief = 'groove', justify='center',\n",
    "               font = ('Calibri', 30), width = 10, bg = 'LightBlue')\n",
    "panedwindow1.add(entry1)\n",
    "\n",
    "#adding 2nd paned window to the 1st paned window\n",
    "panedwindow2 = PanedWindow(panedwindow1, orient = VERTICAL)\n",
    "panedwindow1.add(panedwindow2)\n",
    "entry2 = Spinbox(panedwindow2, from_ = 10, to = 20, \n",
    "                 font = ('Calibri', 12), bg = 'LightPink')\n",
    "entry3 = Entry(panedwindow2, bg = 'LightGreen', font = ('Calibri',12) )\n",
    "entry3.insert(0,3)\n",
    "# show sash\n",
    "panedwindow1.configure(sashrelief = RAISED)\n",
    "def subtract():\n",
    "    num1 = int(entry2.get()) # getting value of spinbox\n",
    "    num2 = int(entry3.get()) # getting value of entry\n",
    "    data = str(num1-num2)\n",
    "    entry1.delete(0, END)\n",
    "    entry1.insert(1,data)\n",
    "# adding spinbox to the 2nd paned window\n",
    "panedwindow2.add(entry2)\n",
    "# adding entry to the 2nd paned window\n",
    "panedwindow2.add(entry3)\n",
    "# creation of button widget\n",
    "subtract_button = Button(panedwindow2, text = \"Subtract\", \n",
    "                         font=('Calibri', 14), bg = 'LightYellow',\n",
    "                         command = subtract)\n",
    "# adding button to the 2nd paned window\n",
    "panedwindow2.add(subtract_button)\n",
    "# infinte loop\n",
    "root.mainloop()"
   ]
  },
  {
   "cell_type": "code",
   "execution_count": 99,
   "id": "2dcb07a0-7022-41fe-9ba8-1c03f56628d1",
   "metadata": {},
   "outputs": [],
   "source": [
    "# Set sash width\n",
    "from tkinter import *\n",
    "# main window creation\n",
    "root = Tk()\n",
    "#window size\n",
    "root.geometry('300x300')\n",
    "# paned window object\n",
    "panedwindow1 = PanedWindow(root, orient ='vertical')\n",
    "# expand option for widgets to expand and fill for letting widgets adjust itself\n",
    "panedwindow1.pack(fill = BOTH, expand = 1)\n",
    "# Checkbutton object\n",
    "checkbutton = Checkbutton(panedwindow1, text =\"I am checkbutton\")\n",
    "checkbutton.pack(side = TOP)\n",
    "# Adding Checkbutton to panedwindow\n",
    "panedwindow1.add(checkbutton)\n",
    "# Radiobutton object\n",
    "radiobutton = Radiobutton(panedwindow1, text =\"I am radiobutton\")\n",
    "radiobutton.pack(side = TOP)\n",
    "# Adding Radiobutton to panedwindow\n",
    "panedwindow1.add(radiobutton)\n",
    "# button object\n",
    "button1 = Button(panedwindow1, text =\"I am button\")\n",
    "button1.pack(side = TOP)\n",
    "# Adding button to panedwindow\n",
    "panedwindow1.add(button1)\n",
    "# Tkinter string variable\n",
    "str = StringVar()\n",
    "# entry widget\n",
    "entry1 = Entry(panedwindow1, textvariable = str, \n",
    "               font =('arial', 15, 'bold'))\n",
    "entry1.pack()\n",
    "# will focus on entry widget particularly\n",
    "entry1.focus_force()\n",
    "str.set(' PanedWindow')\n",
    "# configure sash border and width\n",
    "panedwindow1.configure(sashrelief = RAISED, sashwidth = 5)\n",
    "# adding entry widget to the paned window\n",
    "panedwindow1.add(entry1)\n",
    "#infinite loop\n",
    "root.mainloop()"
   ]
  },
  {
   "cell_type": "markdown",
   "id": "c177f06b-21bf-4257-aaa3-43e0be6e0195",
   "metadata": {},
   "source": [
    "# Toplevel Widget"
   ]
  },
  {
   "cell_type": "code",
   "execution_count": 90,
   "id": "e8e09346-1736-474d-958f-c41336c47c92",
   "metadata": {},
   "outputs": [],
   "source": [
    "from tkinter import *\n",
    "root = Tk()\n",
    "root.title('Main window')\n",
    "root.geometry(\"350x250\")\n",
    "def navigate():\n",
    "    # top level object for creation of a new window\n",
    "    topobj = Toplevel(root)\n",
    "    topobj.geometry('300x150')\n",
    "    topobj.title('New window')\n",
    "    topobj.mainloop()\n",
    "btn1 = Button(root, text = \"Navigate\", command = navigate)\n",
    "btn1.pack(pady=100)\n",
    "root.mainloop()"
   ]
  },
  {
   "cell_type": "code",
   "execution_count": 94,
   "id": "82795fe7-0665-4809-8e09-71c545a5db34",
   "metadata": {},
   "outputs": [],
   "source": [
    "from tkinter import *\n",
    "root = Tk()\n",
    "root.geometry(\"300x300\")\n",
    "root.title('Main window')\n",
    "topobj = Toplevel(root)\n",
    "topobj.title('New window')\n",
    "topobj.geometry(\"300x300\")\n",
    "root.lift(topobj)\n",
    "topobj.deiconify()\n",
    "root.mainloop()"
   ]
  },
  {
   "cell_type": "code",
   "execution_count": null,
   "id": "0672dd9a-fcd9-4b12-aedd-c97df2b225e9",
   "metadata": {},
   "outputs": [],
   "source": []
  }
 ],
 "metadata": {
  "kernelspec": {
   "display_name": "Python311",
   "language": "python",
   "name": "py311"
  },
  "language_info": {
   "codemirror_mode": {
    "name": "ipython",
    "version": 3
   },
   "file_extension": ".py",
   "mimetype": "text/x-python",
   "name": "python",
   "nbconvert_exporter": "python",
   "pygments_lexer": "ipython3",
   "version": "3.11.0"
  }
 },
 "nbformat": 4,
 "nbformat_minor": 5
}
