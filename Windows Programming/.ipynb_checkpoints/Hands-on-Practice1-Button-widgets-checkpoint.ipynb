{
 "cells": [
  {
   "cell_type": "markdown",
   "id": "9e5e85a6-f4ee-451d-8d7f-9eae7b023950",
   "metadata": {},
   "source": [
    "# Practice: Password Encryption GUI with Tkinter Buttons & Events\n",
    "\n",
    "Build a GUI that:\n",
    "- Accepts a password\n",
    "- Encrypts it using bcrypt\n",
    "- Displays the encrypted password\n",
    "- Includes buttons, keyboard shortcuts, and mouse-over effects"
   ]
  },
  {
   "cell_type": "markdown",
   "id": "8df17bf9-f5d2-4264-a7c2-3a4c5919839d",
   "metadata": {},
   "source": [
    "## Step 1: Starter Code – Create a Basic Tkinter Window\n",
    "**Goal:** Set up the window and import necessary libraries."
   ]
  },
  {
   "cell_type": "code",
   "execution_count": 87,
   "id": "53a986b9-3ef3-4c08-8772-fc3fa5e90bb0",
   "metadata": {},
   "outputs": [],
   "source": [
    "import bcrypt\n",
    "import tkinter as tk\n",
    "from tkinter import messagebox\n",
    "\n",
    "root = tk.Tk()\n",
    "root.title('Password Hashing')\n",
    "root.resizable(0, 0)\n",
    "# TODO 1: define a default font -> change font size\n",
    "font = ('Tahoma', 11)"
   ]
  },
  {
   "cell_type": "markdown",
   "id": "81b6e43f-a156-438e-9daf-e82e542d6fcf",
   "metadata": {},
   "source": [
    "**✅ Explanation:**\n",
    "- bcrypt handles secure password hashing.\n",
    "- tkinter builds the GUI.\n",
    "- messagebox provides pop-up dialogs.\n",
    "- font sets a uniform text style."
   ]
  },
  {
   "cell_type": "markdown",
   "id": "8e3061f8-cc89-451e-93aa-f5c2b8de9a51",
   "metadata": {},
   "source": [
    "## Step 2: Define an EntryFrame Class\n",
    "\n",
    "We’ll create a custom Frame with a Label and Entry field — reusable for password and encrypted password fields."
   ]
  },
  {
   "cell_type": "code",
   "execution_count": 88,
   "id": "21d19a5f-a08a-4096-a78f-a7942e7f4362",
   "metadata": {},
   "outputs": [],
   "source": [
    "class EntryFrame(tk.Frame):\n",
    "    def __init__(self, root, variable, label_text, label_width=0, show='', font='', state=tk.NORMAL): \n",
    "        super().__init__(root)\n",
    "        if label_width == 0:\n",
    "            label_width = len(label_text)\n",
    "        # TODO: change value of anchor options\n",
    "        self.label = tk.Label(self, text=label_text, anchor='w', width=label_width, font=font)\n",
    "        self.label.pack(side=tk.LEFT, padx=0, fill=tk.BOTH)\n",
    "\n",
    "        self.entry = tk.Entry(self, font=font, show=show, state=state, textvariable=variable)\n",
    "        self.entry.pack(fill=tk.X)\n",
    "\n",
    "        # Auto-select text when focused\n",
    "        self.entry.bind('<FocusIn>', lambda e: self.entry.select_range(0, tk.END))"
   ]
  },
  {
   "cell_type": "markdown",
   "id": "20ef74de-4b4e-4c1c-8b62-53078d1b19b1",
   "metadata": {},
   "source": [
    "**Explanation:**\n",
    "- Custom widget for label + entry pair.\n",
    "- show='*' hides password input.\n",
    "- FocusIn binding selects all text when the entry gains focus."
   ]
  },
  {
   "cell_type": "markdown",
   "id": "651075aa-2e65-41fa-814f-e29b49982dc5",
   "metadata": {},
   "source": [
    "## Step 3: Add Variables and Layout\n",
    "We’ll add Tkinter StringVar() variables and build the form."
   ]
  },
  {
   "cell_type": "code",
   "execution_count": 89,
   "id": "80bdab72-b605-488f-b483-d6d735768d7e",
   "metadata": {},
   "outputs": [],
   "source": [
    "x = 15\n",
    "y = 15\n",
    "guideline = 'Enter your password then press Encrypt button'\n",
    "\n",
    "password_var = tk.StringVar()\n",
    "encrypted_password_var = tk.StringVar()\n",
    "status_var = tk.StringVar()\n",
    "\n",
    "password_label = \"Password:\"\n",
    "encrypted_password_label = \"Encrypted password:\"\n",
    "\n",
    "# TODO 2: Change label_width to the maximum length of (password_label, encrypted password label)\n",
    "label_width = 18\n"
   ]
  },
  {
   "cell_type": "markdown",
   "id": "7cddd2e6-7a71-44d8-a8fe-6c32929f14e7",
   "metadata": {},
   "source": [
    "**Explanation:**\n",
    "StringVar() enables live two-way text binding between GUI and variables."
   ]
  },
  {
   "cell_type": "markdown",
   "id": "b77d8a6f-3b52-4ee3-b2af-1d21a0e07463",
   "metadata": {},
   "source": [
    "Now add the entry fields:"
   ]
  },
  {
   "cell_type": "code",
   "execution_count": 90,
   "id": "d545179c-cb13-4694-863c-af94ab5626ee",
   "metadata": {},
   "outputs": [],
   "source": [
    "# Password input\n",
    "password_frame = EntryFrame(root, variable=password_var, label_text=password_label,\n",
    "                            label_width=label_width, font=font, show=\"*\")\n",
    "password_frame.pack(fill=tk.X, padx=x, pady=y)\n",
    "\n",
    "# Encrypted password (read-only)\n",
    "encrypted_password_frame = EntryFrame(root, variable=encrypted_password_var, label_text=encrypted_password_label,\n",
    "                                      label_width=label_width, font=font, state='readonly')\n",
    "encrypted_password_frame.pack(fill=tk.X, padx=x, pady=0)"
   ]
  },
  {
   "cell_type": "markdown",
   "id": "7e3a3109-a4a4-4612-b1e7-be6a44374c10",
   "metadata": {},
   "source": [
    "## Step 4: Add Encrypt and Clear Functions\n",
    "These functions control the main logic."
   ]
  },
  {
   "cell_type": "code",
   "execution_count": 91,
   "id": "e8b6ca82-2724-4da7-8469-cc43654f79d1",
   "metadata": {},
   "outputs": [],
   "source": [
    "def encrypt():\n",
    "    password = password_var.get()\n",
    "    if len(password) < 5:\n",
    "        message = 'Password is too short (5 characters minimum)!'\n",
    "        statusbar.configure(fg='red')\n",
    "        status_var.set(message)\n",
    "        messagebox.showerror('Too short password', message)\n",
    "        password_frame.entry.focus_set()\n",
    "    else:\n",
    "        password = bcrypt.hashpw(password.encode('utf8'), bcrypt.gensalt())\n",
    "        encrypted_password_var.set(password)\n",
    "        message = f\"Your password has been encrypted.\"\n",
    "        statusbar.configure(fg='blue')\n",
    "        status_var.set(message)\n",
    "        messagebox.showinfo('Password Encryption', message)\n",
    "        encrypted_password_frame.entry.focus_set()\n",
    "\n",
    "def clear():\n",
    "    password_var.set('')\n",
    "    encrypted_password_var.set('')\n",
    "    statusbar.configure(fg='red')\n",
    "    status_var.set(guideline)\n",
    "    password_frame.entry.focus_set()\n"
   ]
  },
  {
   "cell_type": "markdown",
   "id": "1210476a-77aa-4a2c-b9f4-0f6b7d203e64",
   "metadata": {},
   "source": [
    "**Explanation:**\n",
    "- encrypt() checks password length, hashes with bcrypt, and shows message boxes.\n",
    "- clear() resets the form and focuses back on password input."
   ]
  },
  {
   "cell_type": "markdown",
   "id": "39d42997-586c-430d-b0f3-25f518db8e70",
   "metadata": {},
   "source": [
    "## Step 5: Add Action Buttons"
   ]
  },
  {
   "cell_type": "code",
   "execution_count": 92,
   "id": "4b5dc2fb-d501-4bd8-a5af-6fe7c7c17861",
   "metadata": {},
   "outputs": [],
   "source": [
    "action_frame = tk.Frame(root)\n",
    "action_frame.pack(pady=y, fill=tk.X)\n",
    "\n",
    "# TODO: move Encrypt button to the left of Clear button\n",
    "encrypt_button = tk.Button(action_frame, text=\"Encrypt\", font=font,\n",
    "                           width=9, bg='LightGreen', command=encrypt)\n",
    "encrypt_button.pack(side=tk.RIGHT, padx=(10, x))\n",
    "\n",
    "clear_button = tk.Button(action_frame, text=\"Clear\", font=font,\n",
    "                         width=9, command=clear)\n",
    "clear_button.pack(side=tk.RIGHT)\n",
    "\n",
    "# TODO 3: add Exit button to the right of the Clear button\n",
    "# TODO 4: add event binding for Exit button - destroy application callback\n"
   ]
  },
  {
   "cell_type": "markdown",
   "id": "6ebaab95-6d0a-4869-8b2c-fd31f90f8823",
   "metadata": {},
   "source": [
    "**Explanation:** Buttons trigger encrypt() and clear() functions."
   ]
  },
  {
   "cell_type": "markdown",
   "id": "9dd296cc-8a26-4149-b8da-5469f5b03db1",
   "metadata": {},
   "source": [
    "## Step 6: Add Status Bar"
   ]
  },
  {
   "cell_type": "code",
   "execution_count": 93,
   "id": "21881a95-5383-47c7-a0d0-a77e1e0c3964",
   "metadata": {},
   "outputs": [],
   "source": [
    "statusbar = tk.Label(root, text=\"...\", textvariable=status_var, font=font,\n",
    "                     bd=1, relief=tk.SUNKEN, anchor=tk.W, padx=5)\n",
    "statusbar.pack(side=tk.BOTTOM, fill=tk.X, pady=3)\n"
   ]
  },
  {
   "cell_type": "markdown",
   "id": "ef82e5cb-ffe4-4e70-b55c-6efd9e3dcdb3",
   "metadata": {},
   "source": [
    "**Explanation:** Displays real-time feedback for user actions."
   ]
  },
  {
   "cell_type": "markdown",
   "id": "8882438d-756e-4927-b90c-51046c9f7e18",
   "metadata": {},
   "source": [
    "## Step 7: Bind Events\n",
    "Let’s make the app more interactive."
   ]
  },
  {
   "cell_type": "code",
   "execution_count": 97,
   "id": "5d715f58-3744-4b5c-b77a-004e9e52972a",
   "metadata": {},
   "outputs": [
    {
     "ename": "IndentationError",
     "evalue": "expected an indented block after function definition on line 9 (2991479822.py, line 13)",
     "output_type": "error",
     "traceback": [
      "\u001b[1;36m  Cell \u001b[1;32mIn[97], line 13\u001b[1;36m\u001b[0m\n\u001b[1;33m    def on_leave(e):\u001b[0m\n\u001b[1;37m    ^\u001b[0m\n\u001b[1;31mIndentationError\u001b[0m\u001b[1;31m:\u001b[0m expected an indented block after function definition on line 9\n"
     ]
    }
   ],
   "source": [
    "# Bind Enter to encrypt\n",
    "password_frame.entry.bind('<Return>', lambda e: encrypt())\n",
    "\n",
    "# Hotkeys\n",
    "root.bind('<F5>', lambda e: clear())\n",
    "root.bind('<F1>', lambda e: messagebox.showinfo(\"Help\", guideline))\n",
    "\n",
    "# TODO 5: Mouse hover color change for Encrypt button\n",
    "def on_enter(e):\n",
    "    # TODO: change background color of encrypt_button to LimeGreen\n",
    "    print('On enter')\n",
    "\n",
    "def on_leave(e):\n",
    "    # TODO: change background color of encrypt_button to LightGreen\n",
    "    print('On leave')\n",
    "    \n",
    "# TODO: Bind events for <Enter> and <Leave> of encrypt_button\n",
    "\n",
    "# TODO 6: Exit on ESC key\n",
    "# bind event (root.destroy()) for <Escape> of root windows\n",
    "\n",
    "\n",
    "# TODO 7: Encrypt on Ctrl+E\n",
    "# bind event (encrypt()) for <Control-e> of root windows\n"
   ]
  },
  {
   "cell_type": "markdown",
   "id": "5979254a-9311-4653-a56f-9c58a3d83608",
   "metadata": {},
   "source": [
    "**Explanation:** \n",
    "- `<Return>` = Encrypt password.\n",
    "- `<F5>` = Clear form.\n",
    "- `<F1>` = Show help message."
   ]
  },
  {
   "cell_type": "markdown",
   "id": "8185f7b0-cad4-4451-9336-f64a2ea7d4d5",
   "metadata": {},
   "source": [
    "## Step 8: Add Timeout Countdown (Optional)"
   ]
  },
  {
   "cell_type": "code",
   "execution_count": 95,
   "id": "84fa96a9-d1ea-4aec-8117-09490e57de3a",
   "metadata": {},
   "outputs": [
    {
     "data": {
      "text/plain": [
       "'after#84'"
      ]
     },
     "execution_count": 95,
     "metadata": {},
     "output_type": "execute_result"
    }
   ],
   "source": [
    "# TODO 8: custom timeout duration\n",
    "timeout = 180000  # 3 minutes\n",
    "\n",
    "def count_down():\n",
    "    global timeout\n",
    "    timeout -= 1000\n",
    "    if timeout:\n",
    "        minutes = timeout // 60000\n",
    "        seconds = (timeout - minutes * 60000)//1000\n",
    "        # TODO 9: custom count down format\n",
    "        root.title(f'Password Hashing [{minutes:02d}:{seconds:02d}]')\n",
    "        root.after(1000, count_down)\n",
    "    else:\n",
    "        # TODO 10: show messagebox before destroy the windows\n",
    "        \n",
    "        root.destroy()\n",
    "\n",
    "root.after(1000, count_down)\n"
   ]
  },
  {
   "cell_type": "markdown",
   "id": "a68f9567-7ced-4f01-b349-29b1e9a39c52",
   "metadata": {},
   "source": [
    "**Explanation:** Adds an auto-close countdown timer to the title bar."
   ]
  },
  {
   "cell_type": "markdown",
   "id": "79ac1a55-edf7-49ff-8531-ec2b7bba9a01",
   "metadata": {},
   "source": [
    "## Step 9: Run Application"
   ]
  },
  {
   "cell_type": "code",
   "execution_count": 96,
   "id": "a2fa6fe2-b6b4-4c7e-9d11-d4e01a228ae1",
   "metadata": {},
   "outputs": [],
   "source": [
    "# Set initial state\n",
    "clear_button.invoke()\n",
    "# Run\n",
    "root.mainloop()"
   ]
  },
  {
   "cell_type": "markdown",
   "id": "f86a3957-ec84-41fd-8cc4-0167405eb266",
   "metadata": {},
   "source": [
    "## Extension Practices\n",
    "\n",
    "✅ Add a “Show Password” checkbox to toggle visibility.\n",
    "\n",
    "✅ Add a “Confirm Password” entry to compare before encrypting.\n",
    "\n",
    "✅ Show total encryption count in the window title."
   ]
  },
  {
   "cell_type": "code",
   "execution_count": null,
   "id": "7cd890d2-9d9f-4270-be78-54cb44772a6d",
   "metadata": {},
   "outputs": [],
   "source": []
  }
 ],
 "metadata": {
  "kernelspec": {
   "display_name": "Python311",
   "language": "python",
   "name": "py311"
  },
  "language_info": {
   "codemirror_mode": {
    "name": "ipython",
    "version": 3
   },
   "file_extension": ".py",
   "mimetype": "text/x-python",
   "name": "python",
   "nbconvert_exporter": "python",
   "pygments_lexer": "ipython3",
   "version": "3.11.0"
  }
 },
 "nbformat": 4,
 "nbformat_minor": 5
}
