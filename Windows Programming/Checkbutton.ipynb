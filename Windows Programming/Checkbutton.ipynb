{
 "cells": [
  {
   "cell_type": "code",
   "execution_count": 1,
   "id": "926fcbf1-b3e2-47e5-86b3-3a8c8faa28bc",
   "metadata": {},
   "outputs": [
    {
     "name": "stderr",
     "output_type": "stream",
     "text": [
      "2025-10-07 15:26:25.119 python[6554:107025] +[IMKClient subclass]: chose IMKClient_Modern\n",
      "2025-10-07 15:26:25.119 python[6554:107025] +[IMKInputSession subclass]: chose IMKInputSession_Modern\n"
     ]
    }
   ],
   "source": [
    "from tkinter import *\n",
    "root = Tk()\n",
    "root.geometry('300x300')\n",
    "root.title('CheckButton Widget')\n",
    "font = ('Ariel', 30)\n",
    "def onchange():\n",
    "    if check_var.get() == 'check':\n",
    "        state_var.set('Checked')\n",
    "        state_label['fg'] = 'Green'\n",
    "    else:\n",
    "        state_var.set('Unchecked')\n",
    "        state_label['fg'] = 'Red'\n",
    "check_var, state_var = StringVar(), StringVar()\n",
    "Checkbutton(root, text = 'Checked/Unchecked', font = font, variable = check_var, \n",
    "            offvalue = 'uncheck', onvalue = 'check', command = onchange).pack()\n",
    "state_label = Label(root, font = font, textvariable = state_var)\n",
    "state_label.pack(pady = 10)\n",
    "check_var.set('uncheck')\n",
    "onchange()\n",
    "root.mainloop()"
   ]
  },
  {
   "cell_type": "code",
   "execution_count": 1,
   "id": "33bfcbac-fe76-4eae-b525-21930241461f",
   "metadata": {},
   "outputs": [
    {
     "name": "stderr",
     "output_type": "stream",
     "text": [
      "2025-10-07 15:27:26.978 python[6567:107390] +[IMKClient subclass]: chose IMKClient_Modern\n",
      "2025-10-07 15:27:26.978 python[6567:107390] +[IMKInputSession subclass]: chose IMKInputSession_Modern\n"
     ]
    }
   ],
   "source": [
    "from tkinter import *\n",
    "root = Tk()\n",
    "root.geometry('250x120')\n",
    "def cmd1():\n",
    "    chk1['selectcolor'] = 'LightGreen'\n",
    "def cmd2():\n",
    "    chk2['selectcolor'] = 'LightYellow'\n",
    "chk1 = Checkbutton(root, text = 'CheckButton', \n",
    "                   command = cmd1, indicatoron = True)\n",
    "chk1.pack(pady=10)\n",
    "chk2 = Checkbutton(root, text = 'CheckButton', \n",
    "                   command = cmd2, indicatoron = False)\n",
    "chk2.pack(pady=10)\n",
    "root.mainloop()"
   ]
  },
  {
   "cell_type": "code",
   "execution_count": null,
   "id": "8631f389-07b9-45ca-81f8-8b60d7485455",
   "metadata": {},
   "outputs": [],
   "source": []
  }
 ],
 "metadata": {
  "kernelspec": {
   "display_name": "Python312",
   "language": "python",
   "name": "py311"
  },
  "language_info": {
   "codemirror_mode": {
    "name": "ipython",
    "version": 3
   },
   "file_extension": ".py",
   "mimetype": "text/x-python",
   "name": "python",
   "nbconvert_exporter": "python",
   "pygments_lexer": "ipython3",
   "version": "3.13.5"
  }
 },
 "nbformat": 4,
 "nbformat_minor": 5
}
