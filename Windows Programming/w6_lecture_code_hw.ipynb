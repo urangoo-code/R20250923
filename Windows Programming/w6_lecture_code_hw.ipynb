{
 "cells": [
  {
   "cell_type": "code",
   "execution_count": 2,
   "id": "71d35705-e6f8-47c6-8178-d6c58140475e",
   "metadata": {},
   "outputs": [
    {
     "name": "stderr",
     "output_type": "stream",
     "text": [
      "2025-10-14 14:30:09.242 python[1958:120348] +[IMKClient subclass]: chose IMKClient_Modern\n",
      "2025-10-14 14:30:09.242 python[1958:120348] +[IMKInputSession subclass]: chose IMKInputSession_Modern\n"
     ]
    }
   ],
   "source": [
    "from tkinter import *\n",
    "class MySTATE:\n",
    "    def __init__(self, root):\n",
    "        self.entry_var = StringVar()\n",
    "        self.entry_var.set('python')\n",
    "        Label(root, text = 'Normal state').grid(row = 0, column = 0, sticky='w',\n",
    "                                               padx=10, pady=10)\n",
    "        Label(root, text = 'Disabled state').grid(row = 1, column = 0, sticky='w',\n",
    "                                                 padx = 10, pady=10)\n",
    "        Label(root, text = 'Readonly state').grid(row = 2, column = 0, sticky='w',\n",
    "                                                 padx = 10, pady = 10)\n",
    "        self.entry1 = Entry(root, textvariable=self.entry_var, width=15, state = 'normal')\n",
    "        self.entry1.grid(row = 0, column = 1, padx = 10)\n",
    "        self.entry2 = Entry(root, textvariable=self.entry_var, width=15, state = 'disabled')\n",
    "        self.entry2.grid(row = 1, column = 1, padx = 10)\n",
    "        self.entry3 = Entry(root, textvariable=self.entry_var, width=15, state = 'readonly')\n",
    "        self.entry3.grid(row = 2, column = 1, padx = 10)\n",
    "if __name__ == \"__main__\":\n",
    "    root = Tk()\n",
    "    myobj = MySTATE(root)\n",
    "    root.mainloop()"
   ]
  },
  {
   "cell_type": "code",
   "execution_count": 1,
   "id": "26d49e68-5373-48dd-8c6a-f5a3dd787b3e",
   "metadata": {},
   "outputs": [
    {
     "name": "stderr",
     "output_type": "stream",
     "text": [
      "2025-10-14 14:41:00.960 python[2428:203317] +[IMKClient subclass]: chose IMKClient_Modern\n",
      "2025-10-14 14:41:00.960 python[2428:203317] +[IMKInputSession subclass]: chose IMKInputSession_Modern\n"
     ]
    }
   ],
   "source": [
    "import tkinter as tk\n",
    "\n",
    "class MyCursorPosition(tk.Tk):\n",
    "    def __init__(self):\n",
    "        super().__init__()\n",
    "        self.title('Cursor Position Changing Example')\n",
    "\n",
    "        self.entry1 = tk.Entry(self, font=('Arial', 12), width=20, bd=5)\n",
    "        self.entry1.pack(side=tk.LEFT, padx=(20, 10), pady=20)\n",
    "\n",
    "        self.entry1.focus()                  # Entry-ийг идэвхжүүлнэ\n",
    "        self.entry1.insert(0, 'Demonstration') # Эхэнд текст оруулна\n",
    "        self.entry1.icursor(0)               # Курсорыг 0 индекс рүү (эхэнд) байрлуулна\n",
    "\n",
    "        self.button1 = tk.Button(\n",
    "            self,\n",
    "            text=\"Position the cursor\",\n",
    "            bg='LightGreen',\n",
    "            font=('Tahoma', 12),\n",
    "            command=lambda: self.set_position(self.entry1)  # товч дарахад ажиллана\n",
    "        )\n",
    "        self.button1.pack(padx=(0, 20), pady=20)\n",
    "\n",
    "    def set_position(self, entry):\n",
    "        # icursor-д 0-с эхлэн индекс өгнө — 3 гэвэл 4-р тэмдэгтийн өмнө очно\n",
    "        entry.icursor(3)\n",
    "\n",
    "if __name__ == \"__main__\":\n",
    "    root = MyCursorPosition()\n",
    "    root.mainloop()\n"
   ]
  },
  {
   "cell_type": "code",
   "execution_count": null,
   "id": "2a655343-8954-4f03-87ae-ab8e0012d4d9",
   "metadata": {},
   "outputs": [],
   "source": []
  }
 ],
 "metadata": {
  "kernelspec": {
   "display_name": "Python312",
   "language": "python",
   "name": "py311"
  },
  "language_info": {
   "codemirror_mode": {
    "name": "ipython",
    "version": 3
   },
   "file_extension": ".py",
   "mimetype": "text/x-python",
   "name": "python",
   "nbconvert_exporter": "python",
   "pygments_lexer": "ipython3",
   "version": "3.13.5"
  }
 },
 "nbformat": 4,
 "nbformat_minor": 5
}
