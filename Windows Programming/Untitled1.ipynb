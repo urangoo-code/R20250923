{
 "cells": [
  {
   "cell_type": "code",
   "execution_count": 1,
   "id": "d4b607ea-2ac0-433e-a104-03fed8711884",
   "metadata": {},
   "outputs": [],
   "source": [
    "import bcrypt\n",
    "import tkinter as tk\n",
    "from tkinter import messagebox\n",
    "\n",
    "root = tk.Tk()\n",
    "root.title('Password Hashing')\n",
    "root.resizable(0, 0)\n",
    "# TODO 1: define a default font -> change font size\n",
    "font = ('Tahoma', 11)"
   ]
  },
  {
   "cell_type": "code",
   "execution_count": null,
   "id": "0abf8af3-5d6d-4386-aede-cec82e6e2593",
   "metadata": {},
   "outputs": [],
   "source": []
  }
 ],
 "metadata": {
  "kernelspec": {
   "display_name": "Python312",
   "language": "python",
   "name": "py311"
  },
  "language_info": {
   "codemirror_mode": {
    "name": "ipython",
    "version": 3
   },
   "file_extension": ".py",
   "mimetype": "text/x-python",
   "name": "python",
   "nbconvert_exporter": "python",
   "pygments_lexer": "ipython3",
   "version": "3.13.5"
  }
 },
 "nbformat": 4,
 "nbformat_minor": 5
}
