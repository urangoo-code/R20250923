{
 "cells": [
  {
   "cell_type": "code",
   "execution_count": 17,
   "id": "02c7c6ce-4055-4024-a060-e6727dc71c5b",
   "metadata": {},
   "outputs": [
    {
     "name": "stdout",
     "output_type": "stream",
     "text": [
      "Salt: b'$2b$12$Q0c3ScRdqgQKuU5lOC3wK.'\n",
      "felix ['Felix Fernandez', b'$2b$12$Q0c3ScRdqgQKuU5lOC3wK.ppFCRXnVCbg9LkWAFp.QXkrJDItv1Sm']\n",
      "julian ['Julian Newman', b'$2b$12$Q0c3ScRdqgQKuU5lOC3wK.Fq38MIQWp7mnpy8lt3cbfjqlC/FELoS']\n",
      "peter ['Peter Pan', b'$2b$12$Q0c3ScRdqgQKuU5lOC3wK.5p1mzFSDmiujXB6/iL5vh2wD39mR6fu']\n"
     ]
    }
   ],
   "source": [
    "import bcrypt \n",
    "\n",
    "salt = bcrypt.gensalt() \n",
    "print(\"Salt:\", salt) \n",
    "\n",
    "usernames = ['felix', 'julian', 'peter'] \n",
    "fullnames = ['Felix Fernandez', 'Julian Newman', 'Peter Pan'] \n",
    "\n",
    "with open('users','wb') as f:     \n",
    "    for username, fullname in zip(usernames, fullnames):         \n",
    "        password = bcrypt.hashpw(username.encode('utf-8'), salt)         \n",
    "        f.write(username.encode('utf-8') + b';')         \n",
    "        f.write(fullname.encode('utf-8') + b';')         \n",
    "        f.write(password + b'\\n')\n",
    "db = {}\n",
    "\n",
    "with open('users', 'rb') as f:\n",
    "    for line in f:\n",
    "        username, fullname, password = line.strip().split(b';')\n",
    "        db[username.decode('utf8')] = [fullname.decode('utf8'), password]\n",
    "\n",
    "for key in db:\n",
    "    print(key, db[key])"
   ]
  },
  {
   "cell_type": "code",
   "execution_count": 1,
   "id": "7576db1b-8462-4f67-8282-68309bfbef5c",
   "metadata": {},
   "outputs": [
    {
     "name": "stderr",
     "output_type": "stream",
     "text": [
      "2025-09-30 15:38:11.004 python[4916:107595] +[IMKClient subclass]: chose IMKClient_Modern\n",
      "2025-09-30 15:38:11.004 python[4916:107595] +[IMKInputSession subclass]: chose IMKInputSession_Modern\n"
     ]
    }
   ],
   "source": [
    "import tkinter as tk\n",
    "from tkinter import messagebox\n",
    "import bcrypt\n",
    "from datetime import datetime\n",
    "\n",
    "# Sample user dataset\n",
    "db = {\n",
    "    'felix': ['Felix Fernandez', bcrypt.hashpw(b'felix', bcrypt.gensalt())],\n",
    "    'julian': ['Julian Newman', bcrypt.hashpw(b'julian', bcrypt.gensalt())],\n",
    "    'peter': ['Peter Pan', bcrypt.hashpw(b'peter', bcrypt.gensalt())]\n",
    "}\n",
    "\n",
    "def clear_entries():\n",
    "    entry_username.delete(0, tk.END)\n",
    "    entry_password.delete(0, tk.END)\n",
    "    statusbar.config(text=\"Enter username and password, then press Login\", fg=\"red\")\n",
    "    entry_username.focus()\n",
    "\n",
    "def login():\n",
    "    username = entry_username.get().strip()\n",
    "    password = entry_password.get().strip()\n",
    "\n",
    "    if not username:\n",
    "        messagebox.showerror(\"Error\", \"Username must not be empty\")\n",
    "        statusbar.config(text=\"Username must not be empty\", fg=\"red\")\n",
    "        entry_username.focus()\n",
    "        return\n",
    "\n",
    "    if len(password) < 5:\n",
    "        statusbar.config(text=\"Password is too short (5 characters minimum)\", fg=\"red\")\n",
    "        messagebox.showerror(\"Error\", \"Password is too short (5 characters minimum)\")\n",
    "        entry_password.focus()\n",
    "        return\n",
    "\n",
    "    if username in db and bcrypt.checkpw(password.encode('utf-8'), db[username][1]):\n",
    "        now = datetime.now().strftime(\"%Y-%m-%d %H:%M:%S\")\n",
    "        fullname = db[username][0]\n",
    "        messagebox.showinfo(\"Welcome\", f\"Welcome {fullname}. You logged in at {now}\")\n",
    "        statusbar.config(text=f\"Welcome {fullname}. You logged in at {now}\", fg=\"red\") \n",
    "    else:\n",
    "        retry = messagebox.askretrycancel(\n",
    "            \"Login Failed\",\n",
    "            \"Sorry, your username and password are incorrect. Please try again.\"\n",
    "        )\n",
    "        if retry:\n",
    "            clear_entries()\n",
    "        else:\n",
    "            root.quit()\n",
    "\n",
    "# --- GUI ---\n",
    "root = tk.Tk()\n",
    "root.title(\"Login Form\")\n",
    "\n",
    "tk.Label(root, text=\"Username:\").grid(row=0, column=0, padx=10, pady=5)\n",
    "tk.Label(root, text=\"Password:\").grid(row=1, column=0, padx=10, pady=5)\n",
    "\n",
    "entry_username = tk.Entry(root)\n",
    "entry_password = tk.Entry(root, show=\"*\")\n",
    "\n",
    "entry_username.grid(row=0, column=1, padx=10, pady=5)\n",
    "entry_password.grid(row=1, column=1, padx=10, pady=5)\n",
    "\n",
    "# Buttons: Place both on the right side\n",
    "btn_frame = tk.Frame(root)\n",
    "btn_frame.grid(row=2, column=0, columnspan=2, sticky=\"e\", padx=10, pady=10)\n",
    "\n",
    "btn_clear = tk.Button(btn_frame, text=\"Clear\", command=clear_entries)\n",
    "btn_login = tk.Button(btn_frame, text=\"Login\", command=login, bg=\"green\", fg=\"black\")\n",
    "\n",
    "# Pack buttons horizontally, right-aligned\n",
    "btn_clear.pack(side=\"left\", padx=5)\n",
    "btn_login.pack(side=\"left\", padx=5)\n",
    "\n",
    "statusbar = tk.Label(root, text=\"Enter username and password, then press Login\",\n",
    "                     bd=1, relief=tk.SUNKEN, anchor=tk.W, fg=\"red\")\n",
    "statusbar.grid(row=3, column=0, columnspan=2, sticky=\"we\")\n",
    "\n",
    "entry_username.focus()\n",
    "root.mainloop() "
   ]
  },
  {
   "cell_type": "code",
   "execution_count": null,
   "id": "06bd87dd-ac5a-4a2e-ab86-4d8f78d8cc2b",
   "metadata": {},
   "outputs": [],
   "source": []
  }
 ],
 "metadata": {
  "kernelspec": {
   "display_name": "Python312",
   "language": "python",
   "name": "py311"
  },
  "language_info": {
   "codemirror_mode": {
    "name": "ipython",
    "version": 3
   },
   "file_extension": ".py",
   "mimetype": "text/x-python",
   "name": "python",
   "nbconvert_exporter": "python",
   "pygments_lexer": "ipython3",
   "version": "3.13.5"
  }
 },
 "nbformat": 4,
 "nbformat_minor": 5
}
